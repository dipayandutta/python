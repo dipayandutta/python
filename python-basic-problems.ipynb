{
 "metadata": {
  "name": "",
  "signature": "sha256:51499f8010f4a17219fe02a6a87434270c4e478f911337f7c211a284a81ec343"
 },
 "nbformat": 3,
 "nbformat_minor": 0,
 "worksheets": [
  {
   "cells": [
    {
     "cell_type": "markdown",
     "metadata": {},
     "source": [
      "#Python Example Codes "
     ]
    },
    {
     "cell_type": "heading",
     "level": 1,
     "metadata": {},
     "source": [
      "Problem-1:"
     ]
    },
    {
     "cell_type": "heading",
     "level": 4,
     "metadata": {},
     "source": [
      "Write a program which will find all the numbers that are divisable by 7 but are not a multiple of 5, between 2000 and 3200."
     ]
    },
    {
     "cell_type": "code",
     "collapsed": false,
     "input": [
      "list=[]\n",
      "for i in range(2000,3200):\n",
      "    if(i%7==0) and (i%5!=0):\n",
      "        list.append(str(i)) # append a number in a list so convert it as a string\n",
      "print ','.join(list)"
     ],
     "language": "python",
     "metadata": {},
     "outputs": [
      {
       "output_type": "stream",
       "stream": "stdout",
       "text": [
        "2002,2009,2016,2023,2037,2044,2051,2058,2072,2079,2086,2093,2107,2114,2121,2128,2142,2149,2156,2163,2177,2184,2191,2198,2212,2219,2226,2233,2247,2254,2261,2268,2282,2289,2296,2303,2317,2324,2331,2338,2352,2359,2366,2373,2387,2394,2401,2408,2422,2429,2436,2443,2457,2464,2471,2478,2492,2499,2506,2513,2527,2534,2541,2548,2562,2569,2576,2583,2597,2604,2611,2618,2632,2639,2646,2653,2667,2674,2681,2688,2702,2709,2716,2723,2737,2744,2751,2758,2772,2779,2786,2793,2807,2814,2821,2828,2842,2849,2856,2863,2877,2884,2891,2898,2912,2919,2926,2933,2947,2954,2961,2968,2982,2989,2996,3003,3017,3024,3031,3038,3052,3059,3066,3073,3087,3094,3101,3108,3122,3129,3136,3143,3157,3164,3171,3178,3192,3199\n"
       ]
      }
     ],
     "prompt_number": 4
    },
    {
     "cell_type": "heading",
     "level": 1,
     "metadata": {},
     "source": [
      "Problem-2:"
     ]
    },
    {
     "cell_type": "heading",
     "level": 5,
     "metadata": {},
     "source": [
      "Find the factorial of a given number"
     ]
    },
    {
     "cell_type": "code",
     "collapsed": false,
     "input": [
      "def factfinder(number):\n",
      "    if number==0:\n",
      "        return 1 \n",
      "    return number*factfinder(number-1)\n",
      "\n",
      "factfinder(5)"
     ],
     "language": "python",
     "metadata": {},
     "outputs": [
      {
       "metadata": {},
       "output_type": "pyout",
       "prompt_number": 5,
       "text": [
        "120"
       ]
      }
     ],
     "prompt_number": 5
    },
    {
     "cell_type": "heading",
     "level": 1,
     "metadata": {},
     "source": [
      "Problem-3:"
     ]
    },
    {
     "cell_type": "raw",
     "metadata": {},
     "source": [
      "For a given integral number n , write a program to generate a dictonary that consists of (i,i*i)"
     ]
    },
    {
     "cell_type": "code",
     "collapsed": false,
     "input": [
      "def solution(number):\n",
      "    d = dict()\n",
      "    for i in range(1,number+1):\n",
      "        d[i] = i*i\n",
      "    print d\n",
      "solution(8)"
     ],
     "language": "python",
     "metadata": {},
     "outputs": [
      {
       "output_type": "stream",
       "stream": "stdout",
       "text": [
        "{1: 1, 2: 4, 3: 9, 4: 16, 5: 25, 6: 36, 7: 49, 8: 64}\n"
       ]
      }
     ],
     "prompt_number": 9
    },
    {
     "cell_type": "heading",
     "level": 1,
     "metadata": {},
     "source": [
      "Problem-4:"
     ]
    },
    {
     "cell_type": "heading",
     "level": 5,
     "metadata": {},
     "source": [
      "Define a class which has atleast two methods:\n",
      "getString: to get a string as an input\n",
      "printString: to print the string in upper case"
     ]
    },
    {
     "cell_type": "code",
     "collapsed": false,
     "input": [
      "class ExampleClass(object):\n",
      "    def __init__(self):\n",
      "        self.s = \"\"\n",
      "    def getString(self):\n",
      "        self.s = raw_input()\n",
      "    def printString(self):\n",
      "        print self.s.upper()\n",
      "        \n",
      "strObject = ExampleClass()\n",
      "strObject.getString()\n",
      "strObject.printString()"
     ],
     "language": "python",
     "metadata": {},
     "outputs": [
      {
       "name": "stdout",
       "output_type": "stream",
       "stream": "stdout",
       "text": [
        "Hello World\n"
       ]
      },
      {
       "output_type": "stream",
       "stream": "stdout",
       "text": [
        "HELLO WORLD\n"
       ]
      }
     ],
     "prompt_number": 10
    },
    {
     "cell_type": "heading",
     "level": 1,
     "metadata": {},
     "source": [
      "Problem-5:"
     ]
    },
    {
     "cell_type": "heading",
     "level": 5,
     "metadata": {},
     "source": [
      "Write a program that calculates and prints the value according to the given formula\n",
      "\n",
      "Q = square root of [(2*C*D)/H]\n",
      "C=50\n",
      "H=30\n",
      "D is the variable whose values should be as input in comma sepereated format"
     ]
    },
    {
     "cell_type": "code",
     "collapsed": false,
     "input": [
      "import math\n",
      "C = 50\n",
      "H = 30\n",
      "value = []\n",
      "\n",
      "items = [number for number in raw_input().split(',')]\n",
      "for token in items:\n",
      "    value.append(str(int(round(math.sqrt(2*C*float(token)/H)))))\n",
      "\n",
      "print ','.join(value)"
     ],
     "language": "python",
     "metadata": {},
     "outputs": [
      {
       "name": "stdout",
       "output_type": "stream",
       "stream": "stdout",
       "text": [
        "12,34,22,10\n"
       ]
      },
      {
       "output_type": "stream",
       "stream": "stdout",
       "text": [
        "6,11,9,6\n"
       ]
      }
     ],
     "prompt_number": 14
    },
    {
     "cell_type": "heading",
     "level": 1,
     "metadata": {},
     "source": [
      "Poroblem-6:"
     ]
    },
    {
     "cell_type": "heading",
     "level": 5,
     "metadata": {},
     "source": [
      "Write a program that accepts a comma separeted squence of words as an input , and the sort them in the output as comma sepereted value"
     ]
    },
    {
     "cell_type": "code",
     "collapsed": false,
     "input": [
      "items = [x for x in raw_input().split(',')]\n",
      "items.sort()\n",
      "print ','.join(items)"
     ],
     "language": "python",
     "metadata": {},
     "outputs": [
      {
       "name": "stdout",
       "output_type": "stream",
       "stream": "stdout",
       "text": [
        "hello,good,boy,how,are,u,i,am,fine\n"
       ]
      },
      {
       "output_type": "stream",
       "stream": "stdout",
       "text": [
        "am,are,boy,fine,good,hello,how,i,u\n"
       ]
      }
     ],
     "prompt_number": 15
    },
    {
     "cell_type": "heading",
     "level": 5,
     "metadata": {},
     "source": [
      "Problem-7:"
     ]
    },
    {
     "cell_type": "heading",
     "level": 5,
     "metadata": {},
     "source": [
      "Write a program that accepts two input lines and give an output of capitalized line"
     ]
    },
    {
     "cell_type": "code",
     "collapsed": false,
     "input": [
      "lines = []\n",
      "while True:\n",
      "    s = raw_input()\n",
      "    if s:\n",
      "        lines.append(s.upper())\n",
      "    else:\n",
      "        break\n",
      "for sentence in lines:\n",
      "    print sentence"
     ],
     "language": "python",
     "metadata": {},
     "outputs": [
      {
       "name": "stdout",
       "output_type": "stream",
       "stream": "stdout",
       "text": [
        "hello world\n"
       ]
      },
      {
       "name": "stdout",
       "output_type": "stream",
       "stream": "stdout",
       "text": [
        "hello hi\n"
       ]
      },
      {
       "name": "stdout",
       "output_type": "stream",
       "stream": "stdout",
       "text": [
        "hi\n"
       ]
      },
      {
       "name": "stdout",
       "output_type": "stream",
       "stream": "stdout",
       "text": [
        "\n"
       ]
      },
      {
       "output_type": "stream",
       "stream": "stdout",
       "text": [
        "HELLO WORLD\n",
        "HELLO HI\n",
        "HI\n"
       ]
      }
     ],
     "prompt_number": 17
    },
    {
     "cell_type": "heading",
     "level": 1,
     "metadata": {},
     "source": [
      "Problem-8:"
     ]
    },
    {
     "cell_type": "heading",
     "level": 5,
     "metadata": {},
     "source": [
      "Write a program That accpets sentence and counts number of letters and words"
     ]
    },
    {
     "cell_type": "heading",
     "level": 1,
     "metadata": {},
     "source": [
      "s= raw_input()\n",
      "d = {\"DIGITS\":0,\"LETTERS\":0}\n",
      "for c in s:\n",
      "    if c.isdigit():\n",
      "        d[\"DIGITS\"]+=1\n",
      "    elif c.isalpha():\n",
      "        d[\"LETTERS\"]+=1\n",
      "    else:\n",
      "        pass\n",
      "\n",
      "print \"Letters \",d[\"LETTERS\"]\n",
      "print \"Digits\" ,d[\"DIGITS\"]"
     ]
    },
    {
     "cell_type": "heading",
     "level": 1,
     "metadata": {},
     "source": [
      "Problem -9 "
     ]
    },
    {
     "cell_type": "heading",
     "level": 5,
     "metadata": {},
     "source": [
      "Write a program to compute the frequency of the words form the input ."
     ]
    },
    {
     "cell_type": "code",
     "collapsed": false,
     "input": [
      "freq = {}\n",
      "line = raw_input()\n",
      "\n",
      "for word in line.split():\n",
      "    freq[word] = freq.get(word,0)+1\n",
      "    \n",
      "words = freq.keys()\n",
      "words.sort()\n",
      "\n",
      "for word in words:\n",
      "    print \"%s:%d\"%(word,freq[word])"
     ],
     "language": "python",
     "metadata": {},
     "outputs": [
      {
       "name": "stdout",
       "output_type": "stream",
       "stream": "stdout",
       "text": [
        "This is basic programming example to start the NLP programming ,Hello Python , Python the worlds best programming Language .\n"
       ]
      },
      {
       "output_type": "stream",
       "stream": "stdout",
       "text": [
        ",:1\n",
        ",Hello:1\n",
        ".:1\n",
        "Language:1\n",
        "NLP:1\n",
        "Python:2\n",
        "This:1\n",
        "basic:1\n",
        "best:1\n",
        "example:1\n",
        "is:1\n",
        "programming:3\n",
        "start:1\n",
        "the:2\n",
        "to:1\n",
        "worlds:1\n"
       ]
      }
     ],
     "prompt_number": 5
    },
    {
     "cell_type": "heading",
     "level": 1,
     "metadata": {},
     "source": [
      "Problem - 10"
     ]
    },
    {
     "cell_type": "heading",
     "level": 5,
     "metadata": {},
     "source": [
      "Define a class , which have a class parameter and have a same instance parameter ."
     ]
    },
    {
     "cell_type": "code",
     "collapsed": false,
     "input": [
      "class Person:\n",
      "    #Define the class parameter name\n",
      "    name = \"Person\"\n",
      "    \n",
      "    def __init__(self,name=None):\n",
      "        self.name = name\n",
      "    \n",
      "James = Person(\"James Bond\")\n",
      "print \"%s name is %s \" %(Person.name,James.name)\n",
      "\n",
      "Helly = Person(\"Helly\")\n",
      "print \"%s name is %s \" %(Person.name,Helly.name)"
     ],
     "language": "python",
     "metadata": {},
     "outputs": [
      {
       "output_type": "stream",
       "stream": "stdout",
       "text": [
        "Person name is James Bond \n",
        "Person name is Helly \n"
       ]
      }
     ],
     "prompt_number": 6
    },
    {
     "cell_type": "heading",
     "level": 1,
     "metadata": {},
     "source": [
      "Problem-10"
     ]
    },
    {
     "cell_type": "heading",
     "level": 5,
     "metadata": {},
     "source": [
      "String to Integer conversion using function i.e. type casting example"
     ]
    },
    {
     "cell_type": "code",
     "collapsed": false,
     "input": [
      "def sumint(number1,number2):\n",
      "    print int(number1)+int(number2)\n",
      "    \n",
      "sumint(\"2\",\"4\")"
     ],
     "language": "python",
     "metadata": {},
     "outputs": [
      {
       "output_type": "stream",
       "stream": "stdout",
       "text": [
        "6\n"
       ]
      }
     ],
     "prompt_number": 7
    },
    {
     "cell_type": "heading",
     "level": 1,
     "metadata": {},
     "source": [
      "Problem - 11"
     ]
    },
    {
     "cell_type": "heading",
     "level": 5,
     "metadata": {},
     "source": [
      "Define a function which can print a dictanory where the keys are numbers between 1 and 3 and the values are square"
     ]
    },
    {
     "cell_type": "code",
     "collapsed": false,
     "input": [
      "def printDict():\n",
      "    d = dict()\n",
      "    print d\n",
      "    d[1] = 1\n",
      "    d[2] = 2**2\n",
      "    d[3] = 3**3\n",
      "    print d\n",
      "\n",
      "if __name__ == '__main__':\n",
      "    printDict()"
     ],
     "language": "python",
     "metadata": {},
     "outputs": [
      {
       "output_type": "stream",
       "stream": "stdout",
       "text": [
        "{}\n",
        "{1: 1, 2: 4, 3: 27}\n"
       ]
      }
     ],
     "prompt_number": 9
    },
    {
     "cell_type": "code",
     "collapsed": false,
     "input": [
      "def printDict():\n",
      "    d = dict()\n",
      "    for i in range(1,20):\n",
      "        d[i] = i**2\n",
      "    print d\n",
      "if __name__ == '__main__':\n",
      "    printDict()"
     ],
     "language": "python",
     "metadata": {},
     "outputs": [
      {
       "output_type": "stream",
       "stream": "stdout",
       "text": [
        "{1: 1, 2: 4, 3: 9, 4: 16, 5: 25, 6: 36, 7: 49, 8: 64, 9: 81, 10: 100, 11: 121, 12: 144, 13: 169, 14: 196, 15: 225, 16: 256, 17: 289, 18: 324, 19: 361}\n"
       ]
      }
     ],
     "prompt_number": 10
    },
    {
     "cell_type": "code",
     "collapsed": false,
     "input": [
      "def printDict():\n",
      "    d = dict()\n",
      "    for i in range(1,21):\n",
      "        d[i] = i**2\n",
      "    for k in d.keys():\n",
      "        print k\n",
      "        \n",
      "if __name__ == '__main__':\n",
      "    printDict()"
     ],
     "language": "python",
     "metadata": {},
     "outputs": [
      {
       "output_type": "stream",
       "stream": "stdout",
       "text": [
        "1\n",
        "2\n",
        "3\n",
        "4\n",
        "5\n",
        "6\n",
        "7\n",
        "8\n",
        "9\n",
        "10\n",
        "11\n",
        "12\n",
        "13\n",
        "14\n",
        "15\n",
        "16\n",
        "17\n",
        "18\n",
        "19\n",
        "20\n"
       ]
      }
     ],
     "prompt_number": 11
    },
    {
     "cell_type": "code",
     "collapsed": false,
     "input": [
      "def printList():\n",
      "    li = list()\n",
      "    for i in range(1,20):\n",
      "        li.append(i**2)\n",
      "    print li\n",
      "if __name__ == '__main__':\n",
      "    printList()"
     ],
     "language": "python",
     "metadata": {},
     "outputs": [
      {
       "output_type": "stream",
       "stream": "stdout",
       "text": [
        "[1, 4, 9, 16, 25, 36, 49, 64, 81, 100, 121, 144, 169, 196, 225, 256, 289, 324, 361]\n"
       ]
      }
     ],
     "prompt_number": 12
    },
    {
     "cell_type": "markdown",
     "metadata": {},
     "source": [
      "#Example of filter function"
     ]
    },
    {
     "cell_type": "code",
     "collapsed": false,
     "input": [
      "numberList = [1,2,3,4,5,6,7,8,9,10]\n",
      "evenNumbers = filter(lambda x : x%2 == 0,numberList)\n",
      "print evenNumbers"
     ],
     "language": "python",
     "metadata": {},
     "outputs": [
      {
       "output_type": "stream",
       "stream": "stdout",
       "text": [
        "[2, 4, 6, 8, 10]\n"
       ]
      }
     ],
     "prompt_number": 13
    },
    {
     "cell_type": "markdown",
     "metadata": {},
     "source": [
      "#Example of map() function"
     ]
    },
    {
     "cell_type": "code",
     "collapsed": false,
     "input": [
      "numberList = [1,2,3,4,5,6,7,8,9,10]\n",
      "squareNumbers = map(lambda x : x**2 , numberList) #map() to generate the list\n",
      "print squareNumbers"
     ],
     "language": "python",
     "metadata": {},
     "outputs": [
      {
       "output_type": "stream",
       "stream": "stdout",
       "text": [
        "[1, 4, 9, 16, 25, 36, 49, 64, 81, 100]\n"
       ]
      }
     ],
     "prompt_number": 18
    },
    {
     "cell_type": "code",
     "collapsed": false,
     "input": [
      "squareNumber = filter(lambda x : x**2 , range(1,21))\n",
      "print squareNumber"
     ],
     "language": "python",
     "metadata": {},
     "outputs": [
      {
       "output_type": "stream",
       "stream": "stdout",
       "text": [
        "[1, 2, 3, 4, 5, 6, 7, 8, 9, 10, 11, 12, 13, 14, 15, 16, 17, 18, 19, 20]\n"
       ]
      }
     ],
     "prompt_number": 19
    },
    {
     "cell_type": "code",
     "collapsed": false,
     "input": [
      "squareNumber = map(lambda x: x**2, range(1,21))\n",
      "print squareNumber"
     ],
     "language": "python",
     "metadata": {},
     "outputs": [
      {
       "output_type": "stream",
       "stream": "stdout",
       "text": [
        "[1, 4, 9, 16, 25, 36, 49, 64, 81, 100, 121, 144, 169, 196, 225, 256, 289, 324, 361, 400]\n"
       ]
      }
     ],
     "prompt_number": 20
    },
    {
     "cell_type": "heading",
     "level": 5,
     "metadata": {},
     "source": [
      "Create a Class called Indian which will have static method called printNationality"
     ]
    },
    {
     "cell_type": "code",
     "collapsed": false,
     "input": [
      "class Indian(object):\n",
      "    @staticmethod # decorator\n",
      "    def printNationality():\n",
      "        print \"Proud Indian\"\n",
      "\n",
      "CitizenOfIndia = Indian()\n",
      "CitizenOfIndia.printNationality()\n",
      "Indian.printNationality()"
     ],
     "language": "python",
     "metadata": {},
     "outputs": [
      {
       "output_type": "stream",
       "stream": "stdout",
       "text": [
        "Proud Indian\n",
        "Proud Indian\n"
       ]
      }
     ],
     "prompt_number": 21
    },
    {
     "cell_type": "heading",
     "level": 4,
     "metadata": {},
     "source": [
      "# Class and subclass example"
     ]
    },
    {
     "cell_type": "code",
     "collapsed": false,
     "input": [
      "class Car(object):\n",
      "    pass\n",
      "class maruti(Car):\n",
      "    pass\n",
      "\n",
      "car = Car()\n",
      "maruti = maruti()\n",
      "\n",
      "print car\n",
      "print maruti"
     ],
     "language": "python",
     "metadata": {},
     "outputs": [
      {
       "output_type": "stream",
       "stream": "stdout",
       "text": [
        "<__main__.Car object at 0x7f1f74142290>\n",
        "<__main__.maruti object at 0x7f1f74142390>\n"
       ]
      }
     ],
     "prompt_number": 22
    },
    {
     "cell_type": "code",
     "collapsed": false,
     "input": [
      "class Circle(object):\n",
      "    def __init__(self,r):\n",
      "        self.radius = r\n",
      "    def area(self):\n",
      "        return self.radius**2*3.14\n",
      "    \n",
      "aCircle = Circle(2)\n",
      "print aCircle.area()"
     ],
     "language": "python",
     "metadata": {},
     "outputs": [
      {
       "output_type": "stream",
       "stream": "stdout",
       "text": [
        "12.56\n"
       ]
      }
     ],
     "prompt_number": 23
    },
    {
     "cell_type": "code",
     "collapsed": false,
     "input": [
      "class Rectangle(object):\n",
      "    def __init__(self,width,length):\n",
      "        self.width = width\n",
      "        self.length = length\n",
      "        \n",
      "    def area(self):\n",
      "        return self.width * self.length\n",
      "\n",
      "rect = Rectangle(2,10)\n",
      "print rect.area()"
     ],
     "language": "python",
     "metadata": {},
     "outputs": [
      {
       "output_type": "stream",
       "stream": "stdout",
       "text": [
        "20\n"
       ]
      }
     ],
     "prompt_number": 25
    },
    {
     "cell_type": "heading",
     "level": 5,
     "metadata": {},
     "source": [
      "A robot moves in a plane starting from the original point(0,0) . The robot can move toward UP,DOWN,LEFT and RIGHT . With a given sequence \n",
      "\n",
      "UP 5\n",
      "DOWN 3\n",
      "LEFT 3\n",
      "RIGHT 2\n",
      "\n",
      "The numbers after the direction are steps , Write a program to compute the distance from current position after a sequence of MOVES."
     ]
    },
    {
     "cell_type": "code",
     "collapsed": false,
     "input": [
      "import math\n",
      "pos = [0,0]\n",
      "while True:\n",
      "    s = raw_input()\n",
      "    if not s:\n",
      "        break\n",
      "    movement = s.split(\" \")\n",
      "    direction = movement[0]\n",
      "    steps = int(movement[1])\n",
      "    if direction==\"UP\":\n",
      "        pos[0] += steps\n",
      "    elif direction == \"DOWN\":\n",
      "        pos[0] -= steps\n",
      "    elif direction == \"LEFT\":\n",
      "        pos[0] -= steps\n",
      "    elif direction == \"RIGHT\":\n",
      "        pos[0] += steps\n",
      "    else:\n",
      "        pass\n",
      "    \n",
      "print int(round(math.sqrt(pos[1]**2+pos[0]**2)))"
     ],
     "language": "python",
     "metadata": {},
     "outputs": [
      {
       "name": "stdout",
       "output_type": "stream",
       "stream": "stdout",
       "text": [
        "UP 5 DOWN 3 LEFT 3 RIGHT 2\n"
       ]
      },
      {
       "name": "stdout",
       "output_type": "stream",
       "stream": "stdout",
       "text": [
        "\n"
       ]
      },
      {
       "output_type": "stream",
       "stream": "stdout",
       "text": [
        "5\n"
       ]
      }
     ],
     "prompt_number": 2
    },
    {
     "cell_type": "markdown",
     "metadata": {},
     "source": [
      "# Modify the a method in a super class"
     ]
    },
    {
     "cell_type": "code",
     "collapsed": false,
     "input": [
      "class Shape(object):\n",
      "    def __init__(self):\n",
      "        pass\n",
      "    def area(self):\n",
      "        return 0\n",
      "\n",
      "class Square(Shape):\n",
      "    def __init__(self,i):\n",
      "        Shape.__init__(self)\n",
      "        self.length = i\n",
      "    def area(self):\n",
      "        return self.length* self.length\n",
      "    \n",
      "aSqaure = Square(4)\n",
      "print aSqaure.area()"
     ],
     "language": "python",
     "metadata": {},
     "outputs": [
      {
       "output_type": "stream",
       "stream": "stdout",
       "text": [
        "16\n"
       ]
      }
     ],
     "prompt_number": 4
    },
    {
     "cell_type": "heading",
     "level": 5,
     "metadata": {},
     "source": [
      "#E-mail domain and Name extractor"
     ]
    },
    {
     "cell_type": "code",
     "collapsed": false,
     "input": [
      "import re\n",
      "emailAddress = \"inbox.dipayan@gmail.com\"\n",
      "name = \"(\\w+)@(\\w+\\.)+(com)\"\n",
      "r2 = re.search(name,emailAddress)\n",
      "print r2\n",
      "print r2.group()"
     ],
     "language": "python",
     "metadata": {},
     "outputs": [
      {
       "output_type": "stream",
       "stream": "stdout",
       "text": [
        "<_sre.SRE_Match object at 0x7fa6c1bf4d40>\n",
        "dipayan@gmail.com\n"
       ]
      }
     ],
     "prompt_number": 11
    },
    {
     "cell_type": "heading",
     "level": 5,
     "metadata": {},
     "source": [
      "Write a program to add 10 consecutive numbers using while loop , numbers are starting from 1 "
     ]
    },
    {
     "cell_type": "code",
     "collapsed": false,
     "input": [
      "count = 0 \n",
      "result = 0\n",
      "while count<=10:\n",
      "    result += count\n",
      "    count += 1\n",
      "print result"
     ],
     "language": "python",
     "metadata": {},
     "outputs": [
      {
       "output_type": "stream",
       "stream": "stdout",
       "text": [
        "55\n"
       ]
      }
     ],
     "prompt_number": 12
    },
    {
     "cell_type": "heading",
     "level": 5,
     "metadata": {},
     "source": [
      "Program input - 12345 Output - 54321"
     ]
    },
    {
     "cell_type": "code",
     "collapsed": false,
     "input": [
      "num = 12345\n",
      "x= num \n",
      "rev = 0\n",
      "\n",
      "while num > 0:\n",
      "    rem = num % 10\n",
      "    num = num // 10\n",
      "    rev = rev*10+rem \n",
      "print \"Reverse Number\"+str(rev)"
     ],
     "language": "python",
     "metadata": {},
     "outputs": [
      {
       "output_type": "stream",
       "stream": "stdout",
       "text": [
        "Reverse Number54321\n"
       ]
      }
     ],
     "prompt_number": 13
    },
    {
     "cell_type": "heading",
     "level": 5,
     "metadata": {},
     "source": [
      "Square of number sequence"
     ]
    },
    {
     "cell_type": "code",
     "collapsed": false,
     "input": [
      "for i in range(1,31):\n",
      "    square = i**i\n",
      "    print str(i)+\" --> \"+str(square)\n",
      "    "
     ],
     "language": "python",
     "metadata": {},
     "outputs": [
      {
       "output_type": "stream",
       "stream": "stdout",
       "text": [
        "1 --> 1\n",
        "2 --> 4\n",
        "3 --> 27\n",
        "4 --> 256\n",
        "5 --> 3125\n",
        "6 --> 46656\n",
        "7 --> 823543\n",
        "8 --> 16777216\n",
        "9 --> 387420489\n",
        "10 --> 10000000000\n",
        "11 --> 285311670611\n",
        "12 --> 8916100448256\n",
        "13 --> 302875106592253\n",
        "14 --> 11112006825558016\n",
        "15 --> 437893890380859375\n",
        "16 --> 18446744073709551616\n",
        "17 --> 827240261886336764177\n",
        "18 --> 39346408075296537575424\n",
        "19 --> 1978419655660313589123979\n",
        "20 --> 104857600000000000000000000\n",
        "21 --> 5842587018385982521381124421\n",
        "22 --> 341427877364219557396646723584\n",
        "23 --> 20880467999847912034355032910567\n",
        "24 --> 1333735776850284124449081472843776\n",
        "25 --> 88817841970012523233890533447265625\n",
        "26 --> 6156119580207157310796674288400203776\n",
        "27 --> 443426488243037769948249630619149892803\n",
        "28 --> 33145523113253374862572728253364605812736\n",
        "29 --> 2567686153161211134561828214731016126483469\n",
        "30 --> 205891132094649000000000000000000000000000000\n"
       ]
      }
     ],
     "prompt_number": 15
    },
    {
     "cell_type": "heading",
     "level": 5,
     "metadata": {},
     "source": [
      "# Printing * in a sequence"
     ]
    },
    {
     "cell_type": "code",
     "collapsed": false,
     "input": [
      "print \"Star Pattern to display\"\n",
      "num = 7\n",
      "x = num\n",
      "for i in range(1,6,1):\n",
      "    num -= 1\n",
      "    for j in range(1,num,1):\n",
      "        print (\"*\")\n",
      "        x = num - 1\n",
      "        print "
     ],
     "language": "python",
     "metadata": {},
     "outputs": [
      {
       "output_type": "stream",
       "stream": "stdout",
       "text": [
        "Star Pattern to display\n",
        "*\n",
        "\n",
        "*\n",
        "\n",
        "*\n",
        "\n",
        "*\n",
        "\n",
        "*\n",
        "\n",
        "*\n",
        "\n",
        "*\n",
        "\n",
        "*\n",
        "\n",
        "*\n",
        "\n",
        "*\n",
        "\n",
        "*\n",
        "\n",
        "*\n",
        "\n",
        "*\n",
        "\n",
        "*\n",
        "\n",
        "*\n",
        "\n"
       ]
      }
     ],
     "prompt_number": 20
    },
    {
     "cell_type": "heading",
     "level": 5,
     "metadata": {},
     "source": [
      "# Reverse a list "
     ]
    },
    {
     "cell_type": "code",
     "collapsed": false,
     "input": [
      "lst = []\n",
      "List = [12,23,34,45]\n",
      "print \"List After Reversing\"\n",
      "print List\n",
      "print List[::-1]"
     ],
     "language": "python",
     "metadata": {},
     "outputs": [
      {
       "output_type": "stream",
       "stream": "stdout",
       "text": [
        "List After Reversing\n",
        "[12, 23, 34, 45]\n",
        "[45, 34, 23, 12]\n"
       ]
      }
     ],
     "prompt_number": 27
    },
    {
     "cell_type": "code",
     "collapsed": false,
     "input": [],
     "language": "python",
     "metadata": {},
     "outputs": []
    }
   ],
   "metadata": {}
  }
 ]
}